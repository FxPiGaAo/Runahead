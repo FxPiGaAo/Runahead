{
 "cells": [
  {
   "cell_type": "code",
   "execution_count": 1,
   "metadata": {},
   "outputs": [
    {
     "name": "stdout",
     "output_type": "stream",
     "text": [
      "/home/marta/runahead/plotting_stats\n"
     ]
    }
   ],
   "source": [
    "import pandas\n",
    "import numpy\n",
    "import os\n",
    "cwd = os.getcwd()\n",
    "print(cwd)"
   ]
  },
  {
   "cell_type": "code",
   "execution_count": 56,
   "metadata": {},
   "outputs": [],
   "source": [
    "def parse_single_patfile(file_location):\n",
    "    with open(file_location, \"r\") as file:\n",
    "        lines = file.readlines()\n",
    "        return lines\n",
    "        \n",
    "#parse_single_patfile(cwd + '/mcpat_data/run_rob192_1000k/mcpat_out.txt')"
   ]
  },
  {
   "cell_type": "code",
   "execution_count": 57,
   "metadata": {},
   "outputs": [],
   "source": [
    "def parse_pat_directory(top_level_mcpat_path):\n",
    "    data = {}\n",
    "    for dirname in os.listdir(top_level_mcpat_path):\n",
    "        f = os.path.join(top_level_mcpat_path, dirname)\n",
    "        if os.path.isdir(f):\n",
    "            lines = parse_single_patfile(f + '/mcpat_out.txt')\n",
    "            data[dirname] = lines\n",
    "\n",
    "    return data"
   ]
  },
  {
   "cell_type": "code",
   "execution_count": 58,
   "metadata": {},
   "outputs": [
    {
     "name": "stdout",
     "output_type": "stream",
     "text": [
      "['pre_rob192_525k', 'base_rob192_100k', 'run_rob192_1k', 'base_rob192_1000k', 'base_rob192_1k', 'run_rob192_100k', 'run_rob192_1000k']\n"
     ]
    }
   ],
   "source": [
    "mcpat_data = parse_pat_directory(cwd + '/mcpat_data')\n",
    "benchmarks = list(mcpat_data.keys())\n",
    "print(benchmarks)"
   ]
  },
  {
   "cell_type": "code",
   "execution_count": 59,
   "metadata": {},
   "outputs": [],
   "source": [
    "def get_line_with_first_occurrence(lines, feature_name):\n",
    "    for line in lines:\n",
    "        if feature_name in line:\n",
    "            return line\n",
    "    \n",
    "    return None\n",
    "\n",
    "def extract_float_value_from_text(text):\n",
    "    tokens = text.split()\n",
    "    values = []\n",
    "    for token in tokens:\n",
    "        try:\n",
    "            values.append(float(token))\n",
    "        except ValueError:\n",
    "            pass\n",
    "    \n",
    "    # make sure there is just one statistic per line\n",
    "    assert len(values) == 1\n",
    "    return values[0]\n",
    "\n",
    "def get_feature_statistics(feature_name):\n",
    "    data = {}\n",
    "    for bench in benchmarks:\n",
    "        first_occ_in_bench = get_line_with_first_occurrence(mcpat_data[bench], feature_name)\n",
    "        feature_value = extract_float_value_from_text(first_occ_in_bench)\n",
    "        data[bench] = feature_value\n",
    "        \n",
    "    return data"
   ]
  },
  {
   "cell_type": "code",
   "execution_count": 64,
   "metadata": {},
   "outputs": [
    {
     "data": {
      "text/plain": [
       "{'pre_rob192_525k': nan,\n",
       " 'base_rob192_100k': -5.90058,\n",
       " 'run_rob192_1k': -10.1489,\n",
       " 'base_rob192_1000k': -0.427183,\n",
       " 'base_rob192_1k': -10.1505,\n",
       " 'run_rob192_100k': -5.90107,\n",
       " 'run_rob192_1000k': -0.872955}"
      ]
     },
     "execution_count": 64,
     "metadata": {},
     "output_type": "execute_result"
    }
   ],
   "source": [
    "get_feature_statistics('Runtime Dynamic')"
   ]
  },
  {
   "cell_type": "code",
   "execution_count": null,
   "metadata": {},
   "outputs": [],
   "source": []
  }
 ],
 "metadata": {
  "kernelspec": {
   "display_name": "Python 3",
   "language": "python",
   "name": "python3"
  },
  "language_info": {
   "codemirror_mode": {
    "name": "ipython",
    "version": 3
   },
   "file_extension": ".py",
   "mimetype": "text/x-python",
   "name": "python",
   "nbconvert_exporter": "python",
   "pygments_lexer": "ipython3",
   "version": "3.8.10"
  }
 },
 "nbformat": 4,
 "nbformat_minor": 4
}
